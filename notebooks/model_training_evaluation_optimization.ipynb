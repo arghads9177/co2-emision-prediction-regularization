{
 "cells": [
  {
   "cell_type": "markdown",
   "id": "2bf5c0ed-a251-4131-b736-9c46f8295df0",
   "metadata": {},
   "source": [
    "# CO2 Emission Prediction\n",
    "\n",
    "## Project Overview\n",
    "\n",
    "This project aims to predict the **CO2 emissions** of different types of cars based on the **volume** of fuel and **weight** of the vehicle using a regression model. By analyzing the relationship between these independent variables and the target variable (CO2 emission), we can estimate CO2 emission levels for various cars.\n",
    "\n",
    "The dataset consists of information about car names, models, and their respective volume and weight, providing a comprehensive view for building a predictive regression model.\n",
    "\n",
    "## About the Dataset\n",
    "\n",
    "This dataset contains the CO2 emissions of different car models. It includes two key independent variables: **volume** and **weight** of the cars, which can be used to predict the **CO2 emission**. This dataset is perfect for practicing regression techniques, specifically linear regression, to predict a continuous variable.\n",
    "\n",
    "## Data Source\n",
    "\n",
    "This dataset is available on Kaggle in the following link:\n",
    "> https://www.kaggle.com/datasets/midhundasl/co2-emission-of-cars-dataset/data\n",
    "\n",
    "### Dataset Specifications\n",
    "- **Car**: Name of the car.\n",
    "- **Model**: Name of the model of the car.\n",
    "- **Volume**: Volume of fuel (in cubic centimeters).\n",
    "- **Weight**: Weight of the car (in kilograms).\n",
    "- **CO2**: CO2 emitted by the car (in grams per kilometer).\n",
    "\n",
    "## Problem Satement\n",
    "\n",
    "- **Model Training**: Train the model with data so that it can predict the CO2 emision.\n",
    "- **Model Evaluation**: Evaluate the performance of the model with different evaluation metrics like r2 score, mean squared error.\n",
    "- **Model Optimization**: Optimize the performance of the regression model by regularization techenique."
   ]
  },
  {
   "cell_type": "markdown",
   "id": "c11fbf9e-c075-416d-b3ec-085471bfe301",
   "metadata": {},
   "source": [
    "### Load Libraries"
   ]
  },
  {
   "cell_type": "code",
   "execution_count": 64,
   "id": "4f53e59c-7aa5-42ba-9b72-2860c43ceca5",
   "metadata": {},
   "outputs": [],
   "source": [
    "# General\n",
    "import pandas as pd\n",
    "import numpy as np\n",
    "import os\n",
    "import warnings\n",
    "\n",
    "# Preprocessing\n",
    "from sklearn.preprocessing import StandardScaler\n",
    "from sklearn.model_selection import train_test_split\n",
    "\n",
    "# Model and Evaluation Metrics\n",
    "from sklearn.linear_model import Ridge, Lasso\n",
    "from sklearn.metrics import r2_score, mean_squared_error, mean_absolute_error"
   ]
  },
  {
   "cell_type": "markdown",
   "id": "7586c8ad-3049-4af5-97b8-a6c95faaf863",
   "metadata": {},
   "source": [
    "### Settings"
   ]
  },
  {
   "cell_type": "code",
   "execution_count": 55,
   "id": "37aa799e-c292-4b9d-896d-5cb666e708d0",
   "metadata": {},
   "outputs": [],
   "source": [
    "# Warnings\n",
    "warnings.filterwarnings(\"ignore\")\n",
    "\n",
    "# Path\n",
    "data_path = \"../data\"\n",
    "csv_path = os.path.join(data_path, \"DATA_encoded.csv\")\n",
    "# csv_path = os.path.join(data_path, \"DATA_cleaned.csv\")"
   ]
  },
  {
   "cell_type": "markdown",
   "id": "fa7c9236-64b7-43a0-ba2b-cda7f7a8dbcf",
   "metadata": {},
   "source": [
    "### Load Data"
   ]
  },
  {
   "cell_type": "code",
   "execution_count": 56,
   "id": "f17c6f36-8cba-4d2d-b70a-4ddab8045fad",
   "metadata": {},
   "outputs": [],
   "source": [
    "df = pd.read_csv(csv_path)"
   ]
  },
  {
   "cell_type": "code",
   "execution_count": 57,
   "id": "94aaec61-525a-4923-b15c-07a1c0619182",
   "metadata": {},
   "outputs": [
    {
     "data": {
      "text/html": [
       "<div>\n",
       "<style scoped>\n",
       "    .dataframe tbody tr th:only-of-type {\n",
       "        vertical-align: middle;\n",
       "    }\n",
       "\n",
       "    .dataframe tbody tr th {\n",
       "        vertical-align: top;\n",
       "    }\n",
       "\n",
       "    .dataframe thead th {\n",
       "        text-align: right;\n",
       "    }\n",
       "</style>\n",
       "<table border=\"1\" class=\"dataframe\">\n",
       "  <thead>\n",
       "    <tr style=\"text-align: right;\">\n",
       "      <th></th>\n",
       "      <th>Car</th>\n",
       "      <th>Model</th>\n",
       "      <th>Volume</th>\n",
       "      <th>Weight</th>\n",
       "      <th>CO2</th>\n",
       "    </tr>\n",
       "  </thead>\n",
       "  <tbody>\n",
       "    <tr>\n",
       "      <th>0</th>\n",
       "      <td>101.633838</td>\n",
       "      <td>101.633838</td>\n",
       "      <td>1000</td>\n",
       "      <td>790</td>\n",
       "      <td>99</td>\n",
       "    </tr>\n",
       "    <tr>\n",
       "      <th>1</th>\n",
       "      <td>101.113404</td>\n",
       "      <td>101.113404</td>\n",
       "      <td>1200</td>\n",
       "      <td>1160</td>\n",
       "      <td>95</td>\n",
       "    </tr>\n",
       "    <tr>\n",
       "      <th>2</th>\n",
       "      <td>101.183204</td>\n",
       "      <td>101.113404</td>\n",
       "      <td>1000</td>\n",
       "      <td>929</td>\n",
       "      <td>95</td>\n",
       "    </tr>\n",
       "    <tr>\n",
       "      <th>3</th>\n",
       "      <td>100.462862</td>\n",
       "      <td>100.462862</td>\n",
       "      <td>900</td>\n",
       "      <td>865</td>\n",
       "      <td>90</td>\n",
       "    </tr>\n",
       "    <tr>\n",
       "      <th>4</th>\n",
       "      <td>102.414489</td>\n",
       "      <td>102.414489</td>\n",
       "      <td>1500</td>\n",
       "      <td>1140</td>\n",
       "      <td>105</td>\n",
       "    </tr>\n",
       "  </tbody>\n",
       "</table>\n",
       "</div>"
      ],
      "text/plain": [
       "          Car       Model  Volume  Weight  CO2\n",
       "0  101.633838  101.633838    1000     790   99\n",
       "1  101.113404  101.113404    1200    1160   95\n",
       "2  101.183204  101.113404    1000     929   95\n",
       "3  100.462862  100.462862     900     865   90\n",
       "4  102.414489  102.414489    1500    1140  105"
      ]
     },
     "execution_count": 57,
     "metadata": {},
     "output_type": "execute_result"
    }
   ],
   "source": [
    "# Check Data\n",
    "df.head()"
   ]
  },
  {
   "cell_type": "markdown",
   "id": "a2b4ee6e-6e5a-43e3-8889-ac84167d1374",
   "metadata": {},
   "source": [
    "### Preprocessing"
   ]
  },
  {
   "cell_type": "code",
   "execution_count": 58,
   "id": "9b574474-1b66-42a8-88bc-8e4ec4b311ac",
   "metadata": {},
   "outputs": [],
   "source": [
    "# Separate Input and Output variables\n",
    "X = df.drop(\"CO2\", axis= 1)\n",
    "y = df[\"CO2\"]"
   ]
  },
  {
   "cell_type": "code",
   "execution_count": 59,
   "id": "69e739bd-0058-44c1-b28d-5b85dc0d6920",
   "metadata": {},
   "outputs": [],
   "source": [
    "# Split training and testing data\n",
    "X_train, X_test, y_train, y_test = train_test_split(X, y, test_size= 0.2, random_state= 42)"
   ]
  },
  {
   "cell_type": "code",
   "execution_count": 60,
   "id": "7bfca5d5-3002-4eca-8480-56bc6c583fde",
   "metadata": {},
   "outputs": [],
   "source": [
    "# Standarize the data\n",
    "scaler = StandardScaler()\n",
    "X_train_s = scaler.fit_transform(X_train)\n",
    "X_test_s = scaler.transform(X_test)"
   ]
  },
  {
   "cell_type": "markdown",
   "id": "c2591031-409d-41ea-86ad-995c47041ca5",
   "metadata": {},
   "source": [
    "### Model Training and Evaluation"
   ]
  },
  {
   "cell_type": "code",
   "execution_count": 61,
   "id": "eae1e8bd-4b2a-42e1-bab2-507360d5033f",
   "metadata": {},
   "outputs": [],
   "source": [
    "# Define a funcuntion to train and evaluate a specified model\n",
    "def train_evaluate(model):\n",
    "    # Train the model\n",
    "    model.fit(X_train_s, y_train)\n",
    "\n",
    "    # Predict with trained model\n",
    "    y_train_pred = model.predict(X_train_s)\n",
    "    y_test_pred = model.predict(X_test_s)\n",
    "\n",
    "    # Print Evaluation Metrics\n",
    "    print(\"=\" * 60)\n",
    "    print(\"EVALUATION METRICS FOR TRAIN DATA\")\n",
    "    print(\"=\" * 60)\n",
    "    print(f\"R2 Score: {r2_score(y_train, y_train_pred)}\")\n",
    "    print(f\"MAE: {mean_absolute_error(y_train, y_train_pred)}\")\n",
    "    print(f\"MSE: {mean_squared_error(y_train, y_train_pred)}\")\n",
    "    print(f\"RMSE: {np.sqrt(mean_squared_error(y_train, y_train_pred))}\")\n",
    "    print(\"=\" * 60)\n",
    "    print(\"EVALUATION METRICS FOR TEST DATA\")\n",
    "    print(\"=\" * 60)\n",
    "    print(f\"R2 Score: {r2_score(y_test, y_test_pred)}\")\n",
    "    print(f\"MAE: {mean_absolute_error(y_test, y_test_pred)}\")\n",
    "    print(f\"MSE: {mean_squared_error(y_test, y_test_pred)}\")\n",
    "    print(f\"RMSE: {np.sqrt(mean_squared_error(y_test, y_test_pred))}\")"
   ]
  },
  {
   "cell_type": "code",
   "execution_count": 62,
   "id": "8693f9e0-ccbb-4a74-b52c-27da53bc1eda",
   "metadata": {},
   "outputs": [
    {
     "name": "stdout",
     "output_type": "stream",
     "text": [
      "============================================================\n",
      "EVALUATION METRICS FOR TRAIN DATA\n",
      "============================================================\n",
      "R2 Score: 0.9982097365005999\n",
      "MAE: 0.22376820146684398\n",
      "MSE: 0.07032264633613006\n",
      "RMSE: 0.2651841743696823\n",
      "============================================================\n",
      "EVALUATION METRICS FOR TEST DATA\n",
      "============================================================\n",
      "R2 Score: 0.9973676141705304\n",
      "MAE: 0.4018677293698172\n",
      "MSE: 0.22798929144921248\n",
      "RMSE: 0.4774822420249914\n"
     ]
    }
   ],
   "source": [
    "# Try Ridge regression\n",
    "r = Ridge()\n",
    "train_evaluate(r)"
   ]
  },
  {
   "cell_type": "markdown",
   "id": "98db0358-cfbe-4a0e-a20d-ad6bfe5104d8",
   "metadata": {},
   "source": [
    "### Insights\n",
    "\n",
    "The results after applying target encoding for car name and model show a significant improvement in model performance with Ridge regression. Here's the breakdown:\n",
    "\n",
    "#### Training Performance:\n",
    "\n",
    "- **R2: 0.9982** (Excellent fit, explaining almost all the variance in the training data)\n",
    "- **MAE: 0.22** (Very low error on average)\n",
    "- **MSE: 0.07 and RMSE: 0.27** (Very low, indicating the model is fitting the training data extremely well)\n",
    "\n",
    "#### Testing Performance:\n",
    "\n",
    "- **R2: 0.9974** (Very high, almost as good as the training score, indicating strong generalization to unseen data)\n",
    "- **MAE: 0.40** (Slight increase, but still low)\n",
    "- **MSE: 0.23 and RMSE: 0.48** (Slightly higher, but still very low)\n",
    "\n",
    "#### Analysis:\n",
    "\n",
    "- **Minimal Overfitting:** The close alignment of training and testing performance suggests that the model is not overfitting. The small gap in metrics is typical and expected due to the inherent randomness in the test set.\n",
    "Impact of Target Encoding: Adding car name and model as encoded features provided the model with more useful information, leading to a dramatic improvement. These categorical variables may have had significant predictive power related to CO2 emissions.\n",
    "\n",
    "#### Conclusion:\n",
    "\n",
    "The model performs exceptionally well both on training and test data, with minimal errors and high R2 values. This indicates that the Ridge regression model, with target encoding for categorical features, has captured the relationships in the dataset accurately and generalizes well to new data."
   ]
  },
  {
   "cell_type": "code",
   "execution_count": 63,
   "id": "5b5595c3-858b-44c7-a4bb-a3510b4448d3",
   "metadata": {},
   "outputs": [
    {
     "name": "stdout",
     "output_type": "stream",
     "text": [
      "============================================================\n",
      "EVALUATION METRICS FOR TRAIN DATA\n",
      "============================================================\n",
      "R2 Score: 0.9745134385497239\n",
      "MAE: 0.822866218764007\n",
      "MSE: 1.0011277377840586\n",
      "RMSE: 1.000563710007543\n",
      "============================================================\n",
      "EVALUATION METRICS FOR TEST DATA\n",
      "============================================================\n",
      "R2 Score: 0.967321723702364\n",
      "MAE: 1.303930479071532\n",
      "MSE: 2.8302450862155633\n",
      "RMSE: 1.6823332268654636\n"
     ]
    }
   ],
   "source": [
    "# Try Lasso Regression\n",
    "l = Lasso()\n",
    "train_evaluate(l)"
   ]
  },
  {
   "cell_type": "markdown",
   "id": "28d73183-9247-42a6-a917-edecc8e09bfe",
   "metadata": {},
   "source": [
    "### Insights\n",
    "\n",
    "With Lasso regression, there is a noticeable drop in performance compared to Ridge regression. Here’s an analysis of the results:\n",
    "\n",
    "#### Training Performance:\n",
    "\n",
    "- **R2: 0.9745** (Still high, but lower than Ridge, indicating less variance explained by the model)\n",
    "- **MAE: 0.82** (Higher than Ridge, meaning more error in predictions)\n",
    "- **MSE: 1.00 and RMSE: 1.00** (Both significantly higher than the Ridge results)\n",
    "\n",
    "#### Testing Performance:\n",
    "\n",
    "- **R2: 0.9673** (Good, but lower than Ridge, showing the model doesn’t explain as much variance in the test data)\n",
    "- **MAE: 1.30** (A notable increase in error compared to Ridge)\n",
    "- **MSE: 2.83 and RMSE: 1.68** (Both much higher than the Ridge results, indicating a less accurate model)\n",
    "\n",
    "#### Conclussion:\n",
    "\n",
    "While Lasso can be effective in feature selection by driving coefficients to zero, in this case, it is resulting in worse performance compared to Ridge. Ridge appears to handle this dataset better, as it retains more of the information from the encoded features (car name and model)."
   ]
  },
  {
   "cell_type": "code",
   "execution_count": null,
   "id": "aea52e11-5ee6-4029-8184-6ccfe457257f",
   "metadata": {},
   "outputs": [],
   "source": []
  }
 ],
 "metadata": {
  "kernelspec": {
   "display_name": "Python 3 (ipykernel)",
   "language": "python",
   "name": "python3"
  },
  "language_info": {
   "codemirror_mode": {
    "name": "ipython",
    "version": 3
   },
   "file_extension": ".py",
   "mimetype": "text/x-python",
   "name": "python",
   "nbconvert_exporter": "python",
   "pygments_lexer": "ipython3",
   "version": "3.11.9"
  },
  "widgets": {
   "application/vnd.jupyter.widget-state+json": {
    "state": {},
    "version_major": 2,
    "version_minor": 0
   }
  }
 },
 "nbformat": 4,
 "nbformat_minor": 5
}
